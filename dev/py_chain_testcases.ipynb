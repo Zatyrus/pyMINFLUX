{
 "cells": [
  {
   "cell_type": "code",
   "execution_count": null,
   "metadata": {},
   "outputs": [],
   "source": [
    "import chain\n",
    "\n",
    "@chain\n",
    "def calculate_average(context, type='meter'):\n",
    "  nbs = [house.get(type) for house in context.houses]\n",
    "\n",
    "  context.avg = sum(nbs) / len(nbs)\n",
    "\n",
    "@chain\n",
    "def add_houses(context):\n",
    "  houses = [\n",
    "    { 'meter': 3, },\n",
    "    { 'meter': 10, },\n",
    "  ]\n",
    "\n",
    "  context.houses = houses\n",
    "  \n",
    "@chain\n",
    "def return_state(context):\n",
    "  return state.get_state()\n",
    "\n",
    "result = chain.state() >> add_houses >> calculate_average >> return_state\n",
    "print(result.current.get_state())"
   ]
  },
  {
   "cell_type": "code",
   "execution_count": null,
   "metadata": {},
   "outputs": [],
   "source": [
    "import chain\n",
    "\n",
    "@chain\n",
    "def get_name(context):\n",
    "  return context.name\n",
    "\n",
    "@chain\n",
    "def add_user(context):\n",
    "  context.name = 'foo'\n",
    "\n",
    "result = chain.state() >> add_user >> get_name\n",
    "print(result.output)\n",
    "#\n",
    "# 'foo'\n",
    "#"
   ]
  },
  {
   "cell_type": "code",
   "execution_count": null,
   "metadata": {},
   "outputs": [],
   "source": [
    "## testing python-chain\n",
    "\n",
    "# dependency\n",
    "import chain\n",
    "arr = slice_dict.get(2194) # longest track\n",
    "\n",
    "state = chain.state()\n",
    "\n",
    "@chain\n",
    "def mock_chain_feature(arr:np.ndarray)->np.ndarray:\n",
    "    \"\"\"\n",
    "    Mock feature\n",
    "    \"\"\"\n",
    "    return np.full(arr.shape[0], 2)\n",
    "\n",
    "@chain\n",
    "def mock_chain_calculation(arr:np.ndarray)->np.ndarray:\n",
    "    \"\"\"\n",
    "    Mock calculation\n",
    "    \"\"\"\n",
    "    return arr[:,1] + arr[:,2]\n",
    "\n",
    "result = state() >> mock_chain_feature >> mock_chain_calculation"
   ]
  }
 ],
 "metadata": {
  "language_info": {
   "name": "python"
  }
 },
 "nbformat": 4,
 "nbformat_minor": 2
}
